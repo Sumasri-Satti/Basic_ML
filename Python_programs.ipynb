{
  "nbformat": 4,
  "nbformat_minor": 0,
  "metadata": {
    "colab": {
      "name": "Python programs.ipynb",
      "provenance": [],
      "authorship_tag": "ABX9TyPsIroaNWfjB4OXYTrOLzJQ",
      "include_colab_link": true
    },
    "kernelspec": {
      "name": "python3",
      "display_name": "Python 3"
    },
    "language_info": {
      "name": "python"
    }
  },
  "cells": [
    {
      "cell_type": "markdown",
      "metadata": {
        "id": "view-in-github",
        "colab_type": "text"
      },
      "source": [
        "<a href=\"https://colab.research.google.com/github/Sumasri-Satti/Basic_ML/blob/main/Python_programs.ipynb\" target=\"_parent\"><img src=\"https://colab.research.google.com/assets/colab-badge.svg\" alt=\"Open In Colab\"/></a>"
      ]
    },
    {
      "cell_type": "markdown",
      "metadata": {
        "id": "WavmkcUqelUs"
      },
      "source": [
        ""
      ]
    },
    {
      "cell_type": "markdown",
      "metadata": {
        "id": "8mt0IJB8et_y"
      },
      "source": [
        "Program to greet you.\n"
      ]
    },
    {
      "cell_type": "code",
      "metadata": {
        "colab": {
          "base_uri": "https://localhost:8080/"
        },
        "id": "yR6q43nne964",
        "outputId": "4b1acb3a-c5b7-4ea3-92e5-c9f853df411b"
      },
      "source": [
        "a=input(\"Enter your name: \") \n",
        "print(\"Hello, \"+a+\"!\") #It will be printed as Hello,\"Your name\"!"
      ],
      "execution_count": 6,
      "outputs": [
        {
          "output_type": "stream",
          "text": [
            "Enter your name: Sumasri\n",
            "Hello, Sumasri!\n"
          ],
          "name": "stdout"
        }
      ]
    },
    {
      "cell_type": "markdown",
      "metadata": {
        "id": "-MXOCqWQg6cL"
      },
      "source": [
        "Program to print the multiplication of two numbers.\n"
      ]
    },
    {
      "cell_type": "markdown",
      "metadata": {
        "id": "V4g0-94xhep2"
      },
      "source": [
        ""
      ]
    },
    {
      "cell_type": "code",
      "metadata": {
        "colab": {
          "base_uri": "https://localhost:8080/"
        },
        "id": "QTIH-YkFhw51",
        "outputId": "b3064a97-1fb6-44e3-bb97-fd565c909635"
      },
      "source": [
        "a=int(input(\"Enter the first number: \"))\n",
        "b=int(input(\"Enter the second number: \"))\n",
        "c=a*b #It will give you the product of the numbers (\"*\" is used for multiplication)\n",
        "print(c)"
      ],
      "execution_count": 14,
      "outputs": [
        {
          "output_type": "stream",
          "text": [
            "Enter the first number: 4\n",
            "Enter the second number: 5\n",
            "20\n"
          ],
          "name": "stdout"
        }
      ]
    },
    {
      "cell_type": "markdown",
      "metadata": {
        "id": "bbyNYfJuiH7W"
      },
      "source": [
        "Program to print the square of a number.\n",
        "\n"
      ]
    },
    {
      "cell_type": "code",
      "metadata": {
        "colab": {
          "base_uri": "https://localhost:8080/"
        },
        "id": "G1LHgRGVmgCA",
        "outputId": "6f8ffdef-e266-427a-800a-1fb1180abb0d"
      },
      "source": [
        "a=int(input(\"Enter the number: \"))\n",
        "b=a**2 #It will give you the square of a number (\"**\" is used for exponentiation)\n",
        "print(b)"
      ],
      "execution_count": 13,
      "outputs": [
        {
          "output_type": "stream",
          "text": [
            "Enter the number: 8\n",
            "64\n"
          ],
          "name": "stdout"
        }
      ]
    }
  ]
}